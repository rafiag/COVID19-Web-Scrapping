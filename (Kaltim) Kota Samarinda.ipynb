{
 "cells": [
  {
   "cell_type": "markdown",
   "metadata": {
    "colab_type": "text",
    "id": "-nCokPA70MQx"
   },
   "source": [
    "# Preparation"
   ]
  },
  {
   "cell_type": "markdown",
   "metadata": {
    "colab_type": "text",
    "id": "QuMb3pqT0P6Y"
   },
   "source": [
    "## Import libraries"
   ]
  },
  {
   "cell_type": "code",
   "execution_count": 1,
   "metadata": {
    "colab": {},
    "colab_type": "code",
    "id": "AT7WzpzNi4pr"
   },
   "outputs": [],
   "source": [
    "import requests\n",
    "from urllib.parse import urljoin\n",
    "from bs4 import BeautifulSoup\n",
    "import re\n",
    "import pandas as pd\n",
    "import time\n",
    "import pytz\n",
    "from datetime import datetime\n",
    "import urllib.request, json, os, os.path, csv\n",
    "from pprint import pprint\n",
    "\n",
    "from selenium import webdriver\n",
    "from selenium.webdriver.common.by import By\n",
    "from selenium.webdriver.support.ui import WebDriverWait\n",
    "from selenium.webdriver.support import expected_conditions as ec\n",
    "from selenium.common.exceptions import TimeoutException"
   ]
  },
  {
   "cell_type": "markdown",
   "metadata": {},
   "source": [
    "## Define function"
   ]
  },
  {
   "cell_type": "code",
   "execution_count": 2,
   "metadata": {},
   "outputs": [],
   "source": [
    "def zonasi(row):\n",
    "    if int(row['total_positif']) > 0:\n",
    "        return('Merah')\n",
    "    elif int(row['total_pdp']) > 0:\n",
    "        return('Oranye')\n",
    "    elif int(row['total_odp']) > 0:\n",
    "        return('Hijau')\n",
    "    else: return('Biru')"
   ]
  },
  {
   "cell_type": "markdown",
   "metadata": {
    "colab_type": "text",
    "id": "mUGVLgIh0SJ-"
   },
   "source": [
    "## Setup chrome driver"
   ]
  },
  {
   "cell_type": "code",
   "execution_count": 3,
   "metadata": {
    "colab": {},
    "colab_type": "code",
    "id": "yQOaQe3fzwKx"
   },
   "outputs": [],
   "source": [
    "driver_path = 'D:/Data Science/Python/chromedriver.exe'\n",
    "\n",
    "options = webdriver.ChromeOptions()\n",
    "options.add_argument('--headless')\n",
    "options.add_argument('--no-sandbox')\n",
    "options.add_argument('--disable-dev-shm-usage')\n",
    "\n",
    "tz = pytz.timezone('Asia/Jakarta')\n",
    "default_date_update = datetime.now(tz).strftime(\"%d-%b-%Y\")\n",
    "\n",
    "format_header = ['scrape_date', 'date_update', 'waktu', 'provinsi', 'kabkot', 'kecamatan', \n",
    "                 'kelurahan', 'alamat', 'total_odp', 'total_pdp', 'total_positif', 'total_otg',\n",
    "                 'odr_total', 'total_pp', 'total_ppdt', 'source_link', 'zona', 'Ket']"
   ]
  },
  {
   "cell_type": "markdown",
   "metadata": {
    "colab_type": "text",
    "id": "PSeRVzHl0kr7"
   },
   "source": [
    "# Web Scrapping"
   ]
  },
  {
   "cell_type": "code",
   "execution_count": 4,
   "metadata": {},
   "outputs": [
    {
     "name": "stdout",
     "output_type": "stream",
     "text": [
      "Shape of df: (1, 18)\n"
     ]
    },
    {
     "data": {
      "text/html": [
       "<div>\n",
       "<style scoped>\n",
       "    .dataframe tbody tr th:only-of-type {\n",
       "        vertical-align: middle;\n",
       "    }\n",
       "\n",
       "    .dataframe tbody tr th {\n",
       "        vertical-align: top;\n",
       "    }\n",
       "\n",
       "    .dataframe thead th {\n",
       "        text-align: right;\n",
       "    }\n",
       "</style>\n",
       "<table border=\"1\" class=\"dataframe\">\n",
       "  <thead>\n",
       "    <tr style=\"text-align: right;\">\n",
       "      <th></th>\n",
       "      <th>scrape_date</th>\n",
       "      <th>date_update</th>\n",
       "      <th>waktu</th>\n",
       "      <th>provinsi</th>\n",
       "      <th>kabkot</th>\n",
       "      <th>kecamatan</th>\n",
       "      <th>kelurahan</th>\n",
       "      <th>alamat</th>\n",
       "      <th>total_odp</th>\n",
       "      <th>total_pdp</th>\n",
       "      <th>total_positif</th>\n",
       "      <th>total_otg</th>\n",
       "      <th>odr_total</th>\n",
       "      <th>total_pp</th>\n",
       "      <th>total_ppdt</th>\n",
       "      <th>source_link</th>\n",
       "      <th>zona</th>\n",
       "      <th>Ket</th>\n",
       "    </tr>\n",
       "  </thead>\n",
       "  <tbody>\n",
       "    <tr>\n",
       "      <th>0</th>\n",
       "      <td>27-Jul-2020</td>\n",
       "      <td>18-Jul-2020</td>\n",
       "      <td>18:47</td>\n",
       "      <td>Kalimantan Timur</td>\n",
       "      <td>Kota Samarinda</td>\n",
       "      <td></td>\n",
       "      <td></td>\n",
       "      <td></td>\n",
       "      <td>2717</td>\n",
       "      <td>73</td>\n",
       "      <td>71</td>\n",
       "      <td>0</td>\n",
       "      <td>0</td>\n",
       "      <td>0</td>\n",
       "      <td>0</td>\n",
       "      <td>https://corona.samarindakota.go.id/</td>\n",
       "      <td>Merah</td>\n",
       "      <td>Total kasus seluruh kecamatan.</td>\n",
       "    </tr>\n",
       "  </tbody>\n",
       "</table>\n",
       "</div>"
      ],
      "text/plain": [
       "   scrape_date  date_update  waktu          provinsi          kabkot  \\\n",
       "0  27-Jul-2020  18-Jul-2020  18:47  Kalimantan Timur  Kota Samarinda   \n",
       "\n",
       "  kecamatan kelurahan alamat  total_odp  total_pdp  total_positif  total_otg  \\\n",
       "0                                  2717         73             71          0   \n",
       "\n",
       "   odr_total  total_pp  total_ppdt                          source_link  \\\n",
       "0          0         0           0  https://corona.samarindakota.go.id/   \n",
       "\n",
       "    zona                             Ket  \n",
       "0  Merah  Total kasus seluruh kecamatan.  "
      ]
     },
     "execution_count": 4,
     "metadata": {},
     "output_type": "execute_result"
    }
   ],
   "source": [
    "samarinda_dataset = []\n",
    "\n",
    "now = datetime.now(tz)\n",
    "\n",
    "# Data Global\n",
    "driver = webdriver.Chrome(driver_path, options=options)\n",
    "url = 'https://corona.samarindakota.go.id/'\n",
    "driver.get(url)\n",
    "time.sleep(5)\n",
    "new_corpus = {'scrape_date':now.strftime(\"%d-%b-%Y\"),\n",
    "              'date_update':datetime.strptime(re.findall('\\d+ \\w+ \\d+', driver.find_element_by_xpath('/html/body/div[4]/div[1]/div/section[5]/div/div[1]/p').text.replace('Juli', 'Jul'))[0], '%d %b %Y').strftime('%d-%b-%Y'),\n",
    "              'waktu':now.strftime(\"%H:%M\"),\n",
    "              'provinsi':'Kalimantan Timur',\n",
    "              'kabkot':'Kota Samarinda',\n",
    "              'total_odp':int(re.findall(\"\\d+\", driver.find_element_by_xpath('/html/body/div[4]/div[1]/div/section[5]/div/div[2]/div/div/div/div[2]/p').text)[0]),\n",
    "              'total_pdp':int(re.findall(\"\\d+\", driver.find_element_by_xpath('/html/body/div[4]/div[1]/div/section[5]/div/div[3]/div/div/div/div[2]/p').text)[0]),\n",
    "              'total_positif':int(re.findall(\"\\d+\", driver.find_element_by_xpath('/html/body/div[4]/div[1]/div/section[5]/div/div[4]/div/div/div/div[2]/div/div[2]/p[1]').text)[0]),\n",
    "              'source_link':url,\n",
    "              'Ket':'Total kasus seluruh kecamatan.'}\n",
    "if new_corpus not in samarinda_dataset: samarinda_dataset.append(new_corpus)\n",
    "else: print('Identical corpus already exist in dataset.')\n",
    "driver.quit()\n",
    "\n",
    "df = pd.DataFrame(columns=format_header)\n",
    "\n",
    "for data in samarinda_dataset:\n",
    "    df = df.append(data, ignore_index=True)\n",
    "\n",
    "num_nan = ['total_odp', 'total_pdp', 'total_positif', 'total_otg', \n",
    "           'odr_total', 'total_pp', 'total_ppdt']\n",
    "df[num_nan] = df[num_nan].fillna(0)\n",
    "str_nan = ['kecamatan', 'kelurahan', 'alamat', 'Ket']\n",
    "df[str_nan] = df[str_nan].fillna('')\n",
    "\n",
    "df['zona'] = df.apply(lambda row: zonasi(row), axis=1)\n",
    "\n",
    "df.to_excel('{0}_Kecamatan_Samarinda.xlsx' .format(datetime.now(tz).strftime(\"%Y%m%d\")), index=False)\n",
    "\n",
    "print('Shape of df:', df.shape)\n",
    "df.head()"
   ]
  },
  {
   "cell_type": "code",
   "execution_count": null,
   "metadata": {},
   "outputs": [],
   "source": []
  }
 ],
 "metadata": {
  "colab": {
   "collapsed_sections": [],
   "name": "Scrapping Data COVID-19.ipynb",
   "provenance": [],
   "toc_visible": true
  },
  "kernelspec": {
   "display_name": "Python 3",
   "language": "python",
   "name": "python3"
  },
  "language_info": {
   "codemirror_mode": {
    "name": "ipython",
    "version": 3
   },
   "file_extension": ".py",
   "mimetype": "text/x-python",
   "name": "python",
   "nbconvert_exporter": "python",
   "pygments_lexer": "ipython3",
   "version": "3.7.3"
  }
 },
 "nbformat": 4,
 "nbformat_minor": 1
}
