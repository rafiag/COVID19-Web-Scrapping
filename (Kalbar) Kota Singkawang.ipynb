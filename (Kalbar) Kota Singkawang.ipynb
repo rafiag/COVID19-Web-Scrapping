{
 "cells": [
  {
   "cell_type": "markdown",
   "metadata": {
    "colab_type": "text",
    "id": "-nCokPA70MQx"
   },
   "source": [
    "# Preparation"
   ]
  },
  {
   "cell_type": "markdown",
   "metadata": {
    "colab_type": "text",
    "id": "QuMb3pqT0P6Y"
   },
   "source": [
    "## Import libraries"
   ]
  },
  {
   "cell_type": "code",
   "execution_count": 1,
   "metadata": {
    "colab": {},
    "colab_type": "code",
    "id": "AT7WzpzNi4pr"
   },
   "outputs": [],
   "source": [
    "import requests\n",
    "from urllib.parse import urljoin\n",
    "from bs4 import BeautifulSoup\n",
    "import re\n",
    "import pandas as pd\n",
    "import time\n",
    "import pytz\n",
    "from datetime import datetime\n",
    "import urllib.request, json, os, os.path, csv\n",
    "from pprint import pprint"
   ]
  },
  {
   "cell_type": "markdown",
   "metadata": {
    "colab_type": "text",
    "id": "6VjZWQrQmRgV"
   },
   "source": [
    "## Define function"
   ]
  },
  {
   "cell_type": "code",
   "execution_count": 2,
   "metadata": {
    "colab": {},
    "colab_type": "code",
    "id": "g4m2jaljmTJp"
   },
   "outputs": [],
   "source": [
    "def zonasi(row):\n",
    "    if int(row['total_positif']) > 0:\n",
    "        return('Merah')\n",
    "    elif int(row['total_pdp']) > 0:\n",
    "        return('Oranye')\n",
    "    elif int(row['total_odp']) > 0:\n",
    "        return('Hijau')\n",
    "    else: return('Biru')"
   ]
  },
  {
   "cell_type": "markdown",
   "metadata": {
    "colab_type": "text",
    "id": "PSeRVzHl0kr7"
   },
   "source": [
    "# Web Scrapping"
   ]
  },
  {
   "cell_type": "code",
   "execution_count": 3,
   "metadata": {},
   "outputs": [
    {
     "name": "stdout",
     "output_type": "stream",
     "text": [
      "Length of dataset: 1\n",
      "Shape of df: (1, 18)\n"
     ]
    },
    {
     "data": {
      "text/html": [
       "<div>\n",
       "<style scoped>\n",
       "    .dataframe tbody tr th:only-of-type {\n",
       "        vertical-align: middle;\n",
       "    }\n",
       "\n",
       "    .dataframe tbody tr th {\n",
       "        vertical-align: top;\n",
       "    }\n",
       "\n",
       "    .dataframe thead th {\n",
       "        text-align: right;\n",
       "    }\n",
       "</style>\n",
       "<table border=\"1\" class=\"dataframe\">\n",
       "  <thead>\n",
       "    <tr style=\"text-align: right;\">\n",
       "      <th></th>\n",
       "      <th>scrape_date</th>\n",
       "      <th>date_update</th>\n",
       "      <th>waktu</th>\n",
       "      <th>provinsi</th>\n",
       "      <th>kabkot</th>\n",
       "      <th>kecamatan</th>\n",
       "      <th>kelurahan</th>\n",
       "      <th>alamat</th>\n",
       "      <th>total_odp</th>\n",
       "      <th>total_pdp</th>\n",
       "      <th>total_positif</th>\n",
       "      <th>total_otg</th>\n",
       "      <th>odr_total</th>\n",
       "      <th>total_pp</th>\n",
       "      <th>total_ppdt</th>\n",
       "      <th>source_link</th>\n",
       "      <th>zona</th>\n",
       "      <th>Ket</th>\n",
       "    </tr>\n",
       "  </thead>\n",
       "  <tbody>\n",
       "    <tr>\n",
       "      <th>0</th>\n",
       "      <td>27-Jul-2020</td>\n",
       "      <td>27-Jul-2020</td>\n",
       "      <td>18:36</td>\n",
       "      <td>Kalimantan Barat</td>\n",
       "      <td>Kota Singkawang</td>\n",
       "      <td></td>\n",
       "      <td></td>\n",
       "      <td></td>\n",
       "      <td>154</td>\n",
       "      <td>34</td>\n",
       "      <td>10</td>\n",
       "      <td>0</td>\n",
       "      <td>0</td>\n",
       "      <td>0</td>\n",
       "      <td>0</td>\n",
       "      <td>https://statistik.singkawangkota.go.id/api/v1/</td>\n",
       "      <td>Merah</td>\n",
       "      <td></td>\n",
       "    </tr>\n",
       "  </tbody>\n",
       "</table>\n",
       "</div>"
      ],
      "text/plain": [
       "   scrape_date  date_update  waktu          provinsi           kabkot  \\\n",
       "0  27-Jul-2020  27-Jul-2020  18:36  Kalimantan Barat  Kota Singkawang   \n",
       "\n",
       "  kecamatan kelurahan alamat  total_odp  total_pdp  total_positif  total_otg  \\\n",
       "0                                   154         34             10          0   \n",
       "\n",
       "   odr_total  total_pp  total_ppdt  \\\n",
       "0          0         0           0   \n",
       "\n",
       "                                      source_link   zona Ket  \n",
       "0  https://statistik.singkawangkota.go.id/api/v1/  Merah      "
      ]
     },
     "execution_count": 3,
     "metadata": {},
     "output_type": "execute_result"
    }
   ],
   "source": [
    "tz = pytz.timezone('Asia/Jakarta')\n",
    "default_date_update = datetime.now(tz).strftime(\"%d-%b-%Y\")\n",
    "\n",
    "format_header = ['scrape_date', 'date_update', 'waktu', 'provinsi', 'kabkot', 'kecamatan', \n",
    "                 'kelurahan', 'alamat', 'total_odp', 'total_pdp', 'total_positif', 'total_otg',\n",
    "                 'odr_total', 'total_pp', 'total_ppdt', 'source_link', 'zona', 'Ket']\n",
    "\n",
    "singkawang_dataset = []\n",
    "\n",
    "now = datetime.now(tz)\n",
    "\n",
    "url = 'https://statistik.singkawangkota.go.id/api/v1/'\n",
    "now = datetime.now(tz)\n",
    "\n",
    "with urllib.request.urlopen(url) as request:\n",
    "    raw_data = json.loads(request.read().decode())\n",
    "    new_corpus = {'scrape_date':now.strftime(\"%d-%b-%Y\"),\n",
    "                  'date_update':now.strftime(\"%d-%b-%Y\"),\n",
    "                  'waktu':now.strftime(\"%H:%M\"),\n",
    "                  'provinsi':'Kalimantan Barat',\n",
    "                  'kabkot':'Kota Singkawang',\n",
    "                  'total_odp':raw_data['message'][0]['ODP'],\n",
    "                  'total_pdp':int(raw_data['message'][0]['negatif'])+int(raw_data['message'][0]['PDP']),\n",
    "                  'total_positif':int(raw_data['message'][0]['positif'])+int(raw_data['message'][0]['sembuh'])+int(raw_data['message'][0]['meninggal']),\n",
    "                  'source_link':url}\n",
    "if new_corpus not in singkawang_dataset: singkawang_dataset.append(new_corpus)\n",
    "else: print('Identical corpus already exist in dataset.')\n",
    "\n",
    "print('Length of dataset:', len(singkawang_dataset)) #1\n",
    "\n",
    "df = pd.DataFrame(columns=format_header)\n",
    "\n",
    "for data in singkawang_dataset:\n",
    "    df = df.append(data, ignore_index=True)\n",
    "\n",
    "num_nan = ['total_odp', 'total_pdp', 'total_positif', 'total_otg', 'odr_total', \n",
    "           'total_pp', 'total_ppdt']\n",
    "df[num_nan] = df[num_nan].fillna(0)\n",
    "str_nan = ['kecamatan', 'kelurahan', 'alamat', 'Ket']\n",
    "df[str_nan] = df[str_nan].fillna('')\n",
    "\n",
    "df['zona'] = df.apply(lambda row: zonasi(row), axis=1)\n",
    "\n",
    "df.to_excel('{0}_Kota_Singkawang.xlsx' .format(datetime.now(tz).strftime(\"%Y%m%d\")), index=False)\n",
    "\n",
    "print('Shape of df:', df.shape)\n",
    "df.head()"
   ]
  }
 ],
 "metadata": {
  "colab": {
   "collapsed_sections": [],
   "name": "Scrapping Data COVID-19.ipynb",
   "provenance": [],
   "toc_visible": true
  },
  "kernelspec": {
   "display_name": "Python 3",
   "language": "python",
   "name": "python3"
  },
  "language_info": {
   "codemirror_mode": {
    "name": "ipython",
    "version": 3
   },
   "file_extension": ".py",
   "mimetype": "text/x-python",
   "name": "python",
   "nbconvert_exporter": "python",
   "pygments_lexer": "ipython3",
   "version": "3.7.3"
  }
 },
 "nbformat": 4,
 "nbformat_minor": 1
}
